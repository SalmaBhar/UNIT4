{
  "nbformat": 4,
  "nbformat_minor": 0,
  "metadata": {
    "colab": {
      "name": "quiz37.ipynb",
      "provenance": [],
      "authorship_tag": "ABX9TyO7klyseovlyXKCyaXUG0U2",
      "include_colab_link": true
    },
    "kernelspec": {
      "name": "python3",
      "display_name": "Python 3"
    },
    "language_info": {
      "name": "python"
    }
  },
  "cells": [
    {
      "cell_type": "markdown",
      "metadata": {
        "id": "view-in-github",
        "colab_type": "text"
      },
      "source": [
        "<a href=\"https://colab.research.google.com/github/SalmaBhar/UNIT4/blob/main/quiz37.ipynb\" target=\"_parent\"><img src=\"https://colab.research.google.com/assets/colab-badge.svg\" alt=\"Open In Colab\"/></a>"
      ]
    },
    {
      "cell_type": "markdown",
      "metadata": {
        "id": "_s70VksNZlkc"
      },
      "source": [
        "# **Quiz37**"
      ]
    },
    {
      "cell_type": "code",
      "metadata": {
        "colab": {
          "base_uri": "https://localhost:8080/"
        },
        "id": "KetqbstPWHMB",
        "outputId": "1c559b4f-ca17-49f8-b896-3e976d0a7bcd"
      },
      "source": [
        "#Quiz37\n",
        "def hill(my_string):\n",
        "  number_list=[]\n",
        "  minimum=0\n",
        "  maximum=0\n",
        "  for number in range(0, len(my_string)):\n",
        "    number_list.append(number)\n",
        "  minimum = min(number_list)\n",
        "  maximum = max(number_list)\n",
        "  return (maximum-minimum)\n",
        "\n",
        "#tests\n",
        "print(hill(\"02354310\"))\n",
        "print(hill(\"12386456792\"))\n",
        "print(hill(\"12387356792\"))\n",
        "print(hill(\"0\"))"
      ],
      "execution_count": 14,
      "outputs": [
        {
          "output_type": "stream",
          "text": [
            "7\n",
            "10\n",
            "10\n",
            "0\n"
          ],
          "name": "stdout"
        }
      ]
    }
  ]
}