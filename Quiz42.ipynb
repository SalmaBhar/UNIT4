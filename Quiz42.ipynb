{
  "nbformat": 4,
  "nbformat_minor": 0,
  "metadata": {
    "colab": {
      "name": "Quiz42.ipynb",
      "provenance": [],
      "authorship_tag": "ABX9TyPysKBVTVsMW5qr2mD7fI9r",
      "include_colab_link": true
    },
    "kernelspec": {
      "name": "python3",
      "display_name": "Python 3"
    },
    "language_info": {
      "name": "python"
    }
  },
  "cells": [
    {
      "cell_type": "markdown",
      "metadata": {
        "id": "view-in-github",
        "colab_type": "text"
      },
      "source": [
        "<a href=\"https://colab.research.google.com/github/SalmaBhar/UNIT4/blob/main/Quiz42.ipynb\" target=\"_parent\"><img src=\"https://colab.research.google.com/assets/colab-badge.svg\" alt=\"Open In Colab\"/></a>"
      ]
    },
    {
      "cell_type": "code",
      "metadata": {
        "colab": {
          "base_uri": "https://localhost:8080/"
        },
        "id": "ZgkjylSsrDIu",
        "outputId": "769bba85-64d3-4c44-8647-c059b680ff8d"
      },
      "source": [
        "#program\n",
        "def scientificnotation(l :int):\n",
        "  l_string=str(l)\n",
        "  output=\"{}.{}{} * 1e{}\".format(l_string[0], l_string[1], l_string[2], len(l_string)-1)\n",
        "  return (output)\n",
        "\n",
        "#testing\n",
        "print(scientificnotation(132000))\n",
        "print(scientificnotation(1520000))\n",
        "print(scientificnotation(100))"
      ],
      "execution_count": 3,
      "outputs": [
        {
          "output_type": "stream",
          "text": [
            "1.32 * 1e5\n",
            "1.52 * 1e6\n",
            "1.00 * 1e2\n"
          ],
          "name": "stdout"
        }
      ]
    }
  ]
}